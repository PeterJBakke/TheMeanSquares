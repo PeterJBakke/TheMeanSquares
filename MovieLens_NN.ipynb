{
  "nbformat": 4,
  "nbformat_minor": 0,
  "metadata": {
    "colab": {
      "name": "MovieLens-NN-GPU.ipynb",
      "version": "0.3.2",
      "provenance": [],
      "collapsed_sections": []
    },
    "kernelspec": {
      "name": "python3",
      "display_name": "Python 3"
    },
    "accelerator": "GPU"
  },
  "cells": [
    {
      "metadata": {
        "id": "bHfUHx4ygQZ9",
        "colab_type": "code",
        "outputId": "c56fc9e2-ea29-4398-d9cb-703ffb76f86a",
        "colab": {
          "base_uri": "https://localhost:8080/",
          "height": 197
        }
      },
      "cell_type": "code",
      "source": [
        "from os.path import exists\n",
        "from wheel.pep425tags import get_abbr_impl, get_impl_ver, get_abi_tag\n",
        "platform = '{}{}-{}'.format(get_abbr_impl(), get_impl_ver(), get_abi_tag())\n",
        "cuda_output = !ldconfig -p|grep cudart.so|sed -e 's/.*\\.\\([0-9]*\\)\\.\\([0-9]*\\)$/cu\\1\\2/'\n",
        "accelerator = cuda_output[0] if exists('/dev/nvidia0') else 'cpu'\n",
        "\n",
        "!pip install -q http://download.pytorch.org/whl/{accelerator}/torch-0.4.1-{platform}-linux_x86_64.whl torchvision torchtext\n",
        "import torch\n",
        "\n",
        "from google.colab import drive\n",
        "drive.mount('/content/gdrive', force_remount=True)\n",
        "!python -m spacy download en"
      ],
      "execution_count": 0,
      "outputs": [
        {
          "output_type": "stream",
          "text": [
            "Mounted at /content/gdrive\n",
            "Requirement already satisfied: en_core_web_sm==2.0.0 from https://github.com/explosion/spacy-models/releases/download/en_core_web_sm-2.0.0/en_core_web_sm-2.0.0.tar.gz#egg=en_core_web_sm==2.0.0 in /usr/local/lib/python3.6/dist-packages (2.0.0)\n",
            "\n",
            "\u001b[93m    Linking successful\u001b[0m\n",
            "    /usr/local/lib/python3.6/dist-packages/en_core_web_sm -->\n",
            "    /usr/local/lib/python3.6/dist-packages/spacy/data/en\n",
            "\n",
            "    You can now load the model via spacy.load('en')\n",
            "\n"
          ],
          "name": "stdout"
        }
      ]
    },
    {
      "metadata": {
        "id": "hOeHBff7gXsa",
        "colab_type": "code",
        "cellView": "both",
        "colab": {}
      },
      "cell_type": "code",
      "source": [
        "# DATA\n",
        "\n",
        "import pandas as pd\n",
        "import numpy as np\n",
        "import os\n",
        "from torchtext import data, vocab\n",
        "import torch\n",
        "from random import randint\n",
        "\n",
        "device = torch.device('cuda:0' if torch.cuda.is_available() else 'cpu')\n",
        "\n",
        "\n",
        "class MovieLens:\n",
        "    \"\"\"\n",
        "    Class to handle the MovieLens data\n",
        "    \"\"\"\n",
        "\n",
        "    def __init__(self, device, path='./gdrive/My Drive/Colab Notebooks/data/MovieLens-Small/ratings.csv'):\n",
        "        print('Device: ' + str(device))\n",
        "\n",
        "        self.user = data.Field(sequential=False, use_vocab=True)\n",
        "        self.movie = data.Field(sequential=False, use_vocab=True)\n",
        "        self.rating = data.Field(sequential=False, use_vocab=False, dtype=torch.float)\n",
        "\n",
        "        self.train_set, self.validation_set, self.test_set = data.TabularDataset(\n",
        "            path=path,\n",
        "            format='csv',\n",
        "            fields=[('user', self.user), ('movie', self.movie), ('rating', self.rating), ('timestamp', None)],\n",
        "            skip_header=True,\n",
        "        ).split(split_ratio=[0.7, 0.15, 0.15])\n",
        "\n",
        "        self.train_iter, self.validation_iter, self.test_iter = data.BucketIterator.splits(\n",
        "            (self.train_set, self.validation_set, self.test_set),\n",
        "            batch_size=100,\n",
        "            device=device,\n",
        "            sort_key=lambda x: len(x.movie),\n",
        "            repeat=False)\n",
        "\n",
        "        self.user.build_vocab(self.train_set)\n",
        "        self.movie.build_vocab(self.train_set)"
      ],
      "execution_count": 0,
      "outputs": []
    },
    {
      "metadata": {
        "id": "nvDFnPDH7FTQ",
        "colab_type": "code",
        "colab": {}
      },
      "cell_type": "code",
      "source": [
        "#MODEL\n",
        "\n",
        "import torch.nn as nn\n",
        "import numpy as np\n",
        "\n",
        "max_rating = 5.0\n",
        "min_rating = 0.5\n",
        "\n",
        "class MovieLensNet(nn.Module):\n",
        "    def __init__(self, user_field, movie_field, n_factors=10, hidden=50, p1=0, p2=0):\n",
        "        super().__init__()\n",
        "        self.movie_field = movie_field\n",
        "        self.user_field = user_field\n",
        "\n",
        "        n_users = len(self.user_field.vocab.itos)\n",
        "        self.u = nn.Embedding(n_users, n_factors)\n",
        "        self.u.weight.data.uniform_(0,  0.05)\n",
        "        self.u.requires_grad = False\n",
        "\n",
        "        n_movies = len(self.movie_field.vocab.itos)\n",
        "        self.m = nn.Embedding(n_movies, n_factors)\n",
        "        self.m.weight.data.uniform_(0,  0.05)\n",
        "        self.m.requires_grad = False\n",
        "\n",
        "        self.lin1 = nn.Sequential(\n",
        "            nn.Dropout(p1),\n",
        "            nn.Linear(n_factors * 2, hidden),\n",
        "            # nn.ReLU(),\n",
        "        )\n",
        "\n",
        "        self.lin2 = nn.Sequential(\n",
        "            nn.Dropout(p2),\n",
        "            nn.Linear(hidden, 1),\n",
        "        )\n",
        "\n",
        "    def forward(self, batch):\n",
        "        x = torch.cat([self.u(batch.user), self.m(batch.movie)], dim=1)\n",
        "        x = self.lin1(x)\n",
        "        x = self.lin2(x)\n",
        "        return (torch.sigmoid(x) * (max_rating - min_rating)) + min_rating\n"
      ],
      "execution_count": 0,
      "outputs": []
    },
    {
      "metadata": {
        "id": "mF95z_C-hW3S",
        "colab_type": "code",
        "colab": {}
      },
      "cell_type": "code",
      "source": [
        "#Training\n",
        "from types import SimpleNamespace\n",
        "import torch\n",
        "from torch.autograd import Variable\n",
        "import numpy as np\n",
        "import matplotlib.pyplot as plt\n",
        "from random import randint\n",
        "\n",
        "device = torch.device('cuda:0' if torch.cuda.is_available() else 'cpu')\n",
        "\n",
        "\n",
        "def movie_lens_train(train_iter, val_iter, net, test_iter, optimizer, criterion, num_epochs=5):\n",
        "    train_err = []\n",
        "    train_res = []\n",
        "    val_err = []\n",
        "    val_res = []\n",
        "\n",
        "    for i in range(num_epochs):\n",
        "        net.train()\n",
        "        train_loss, train_accs, train_avg_dist, train_length = [0, 0, 0, 0]\n",
        "        \n",
        "        for batch in train_iter:\n",
        "            output = net(batch).reshape(-1)\n",
        "            batch_loss = criterion(output, batch.rating)\n",
        "            \n",
        "            train_loss += batch_loss\n",
        "            train_length += batch.batch_size\n",
        "            train_accs += accuracy(output, batch.rating) * batch.batch_size\n",
        "            train_avg_dist += avg_distance(output, batch.rating) * batch.batch_size\n",
        "\n",
        "            #optimization step\n",
        "            optimizer.zero_grad()\n",
        "            batch_loss.backward()\n",
        "            optimizer.step()\n",
        "\n",
        "        # print results after each epoch\n",
        "        train_loss /= train_length\n",
        "        train_loss /= (max_rating-min_rating) # get percentage of error\n",
        "        train_accs /= train_length\n",
        "        train_avg_dist /= train_length\n",
        "\n",
        "        net.eval()\n",
        "        val_loss, val_accs, val_avg_dist, val_length = [0, 0, 0, 0]\n",
        "\n",
        "        for val_batch in val_iter:\n",
        "            val_output = net(val_batch).reshape(-1)\n",
        "            val_loss += criterion(val_output, val_batch.rating)\n",
        "            val_length += val_batch.batch_size\n",
        "            val_accs += accuracy(val_output, val_batch.rating) * val_batch.batch_size\n",
        "            val_avg_dist += avg_distance(val_output, val_batch.rating) * val_batch.batch_size\n",
        "\n",
        "        # print results after each epoch\n",
        "        val_loss /= val_length\n",
        "        val_loss /= (max_rating-min_rating) # get percentage of error\n",
        "        val_accs /= val_length\n",
        "        val_avg_dist /= val_length\n",
        "            \n",
        "        train_res.append(train_accs)\n",
        "        train_err.append(train_avg_dist/(max_rating-min_rating))\n",
        "        val_res.append(val_accs)\n",
        "        val_err.append(val_avg_dist/(max_rating-min_rating))\n",
        "            \n",
        "        print(\"Epoch {}: Train loss: {:.4f},  Train accs: {:.4f}, Train average distance: {:.2f}\".format(i + 1, train_loss, train_accs, train_avg_dist))\n",
        "        print(\"         Validation loss: {:.4f},  Validation accs:{:.4f}, Validation average distance: {:.2f} \".format(val_loss, val_accs, val_avg_dist))\n",
        "        val_loss, val_accs, val_length = [0, 0, 0]\n",
        "        \n",
        "    return (train_res, train_err, val_res, val_err)\n",
        "\n",
        "\n",
        "def accuracy(output, target):\n",
        "    return np.sum(torch.mean(torch.lt(torch.abs(output-target), 0.5).float()).cpu().data.numpy())\n",
        "  \n",
        "def avg_distance(output, target):\n",
        "    return np.sum(torch.mean(torch.abs(output-target)).float().cpu().data.numpy())"
      ],
      "execution_count": 0,
      "outputs": []
    },
    {
      "metadata": {
        "id": "KpVwL5MTLpDS",
        "colab_type": "code",
        "outputId": "1f4ee0d8-cf99-4ed8-adfb-7f749b49e042",
        "colab": {
          "base_uri": "https://localhost:8080/",
          "height": 53
        }
      },
      "cell_type": "code",
      "source": [
        "#MAIN\n",
        "\n",
        "import torch\n",
        "from torch import optim, nn\n",
        "\n",
        "movie_data = MovieLens(device=device)\n",
        "\n",
        "train_set = movie_data.train_iter\n",
        "test_set = movie_data.test_iter\n",
        "validation_set = movie_data.validation_iter\n",
        "\n",
        "user_field = movie_data.user\n",
        "movie_field = movie_data.movie\n",
        "\n",
        "print('Data loaded')"
      ],
      "execution_count": 0,
      "outputs": [
        {
          "output_type": "stream",
          "text": [
            "Device: cuda:0\n",
            "Data loaded\n"
          ],
          "name": "stdout"
        }
      ]
    },
    {
      "metadata": {
        "id": "S7vGUPUjRpJ5",
        "colab_type": "code",
        "outputId": "96529202-041a-4db0-c383-6dde5575e32a",
        "colab": {
          "base_uri": "https://localhost:8080/",
          "height": 1084
        }
      },
      "cell_type": "code",
      "source": [
        "net = MovieLensNet(user_field=user_field, movie_field=movie_field, n_factors=10, hidden=20, p1=0, p2=0).to(device)\n",
        "\n",
        "opt = optim.Adam(net.parameters(), lr=1e-4, weight_decay=1e-6)\n",
        "#opt = optim.SGD(net.parameters(), lr= 1e-1, weight_decay=1e-5, momentum=0.9)\n",
        "\n",
        "criterion = nn.MSELoss()\n",
        "train_res, train_err, val_res, val_err = movie_lens_train(train_iter=train_set, test_iter=test_set, val_iter=validation_set,\n",
        "      net=net, optimizer=opt, criterion=criterion, num_epochs=30)"
      ],
      "execution_count": 0,
      "outputs": [
        {
          "output_type": "stream",
          "text": [
            "Epoch 1: Train loss: 0.0028,  Train accs: 0.3064, Train average distance: 0.92\n",
            "         Validation loss: 0.0025,  Validation accs:0.3236, Validation average distance: 0.86 \n",
            "Epoch 2: Train loss: 0.0023,  Train accs: 0.3870, Train average distance: 0.81\n",
            "         Validation loss: 0.0022,  Validation accs:0.4211, Validation average distance: 0.79 \n",
            "Epoch 3: Train loss: 0.0020,  Train accs: 0.4389, Train average distance: 0.75\n",
            "         Validation loss: 0.0020,  Validation accs:0.4319, Validation average distance: 0.74 \n",
            "Epoch 4: Train loss: 0.0019,  Train accs: 0.4505, Train average distance: 0.71\n",
            "         Validation loss: 0.0019,  Validation accs:0.4408, Validation average distance: 0.72 \n",
            "Epoch 5: Train loss: 0.0018,  Train accs: 0.4614, Train average distance: 0.69\n",
            "         Validation loss: 0.0018,  Validation accs:0.4457, Validation average distance: 0.70 \n",
            "Epoch 6: Train loss: 0.0017,  Train accs: 0.4705, Train average distance: 0.67\n",
            "         Validation loss: 0.0018,  Validation accs:0.4513, Validation average distance: 0.70 \n",
            "Epoch 7: Train loss: 0.0017,  Train accs: 0.4749, Train average distance: 0.67\n",
            "         Validation loss: 0.0018,  Validation accs:0.4525, Validation average distance: 0.69 \n",
            "Epoch 8: Train loss: 0.0016,  Train accs: 0.4788, Train average distance: 0.66\n",
            "         Validation loss: 0.0018,  Validation accs:0.4505, Validation average distance: 0.69 \n",
            "Epoch 9: Train loss: 0.0016,  Train accs: 0.4816, Train average distance: 0.65\n",
            "         Validation loss: 0.0018,  Validation accs:0.4515, Validation average distance: 0.69 \n",
            "Epoch 10: Train loss: 0.0016,  Train accs: 0.4847, Train average distance: 0.65\n",
            "         Validation loss: 0.0018,  Validation accs:0.4494, Validation average distance: 0.69 \n",
            "Epoch 11: Train loss: 0.0016,  Train accs: 0.4855, Train average distance: 0.65\n",
            "         Validation loss: 0.0018,  Validation accs:0.4509, Validation average distance: 0.69 \n",
            "Epoch 12: Train loss: 0.0016,  Train accs: 0.4866, Train average distance: 0.65\n",
            "         Validation loss: 0.0018,  Validation accs:0.4513, Validation average distance: 0.69 \n",
            "Epoch 13: Train loss: 0.0016,  Train accs: 0.4887, Train average distance: 0.65\n",
            "         Validation loss: 0.0018,  Validation accs:0.4517, Validation average distance: 0.69 \n",
            "Epoch 14: Train loss: 0.0016,  Train accs: 0.4885, Train average distance: 0.64\n",
            "         Validation loss: 0.0018,  Validation accs:0.4516, Validation average distance: 0.69 \n",
            "Epoch 15: Train loss: 0.0016,  Train accs: 0.4891, Train average distance: 0.64\n",
            "         Validation loss: 0.0018,  Validation accs:0.4509, Validation average distance: 0.69 \n",
            "Epoch 16: Train loss: 0.0016,  Train accs: 0.4896, Train average distance: 0.64\n",
            "         Validation loss: 0.0018,  Validation accs:0.4514, Validation average distance: 0.69 \n",
            "Epoch 17: Train loss: 0.0016,  Train accs: 0.4899, Train average distance: 0.64\n",
            "         Validation loss: 0.0018,  Validation accs:0.4519, Validation average distance: 0.69 \n",
            "Epoch 18: Train loss: 0.0016,  Train accs: 0.4908, Train average distance: 0.64\n",
            "         Validation loss: 0.0018,  Validation accs:0.4517, Validation average distance: 0.69 \n",
            "Epoch 19: Train loss: 0.0016,  Train accs: 0.4913, Train average distance: 0.64\n",
            "         Validation loss: 0.0018,  Validation accs:0.4537, Validation average distance: 0.69 \n",
            "Epoch 20: Train loss: 0.0016,  Train accs: 0.4917, Train average distance: 0.64\n",
            "         Validation loss: 0.0018,  Validation accs:0.4510, Validation average distance: 0.69 \n",
            "Epoch 21: Train loss: 0.0016,  Train accs: 0.4916, Train average distance: 0.64\n",
            "         Validation loss: 0.0018,  Validation accs:0.4535, Validation average distance: 0.69 \n",
            "Epoch 22: Train loss: 0.0016,  Train accs: 0.4923, Train average distance: 0.64\n",
            "         Validation loss: 0.0018,  Validation accs:0.4513, Validation average distance: 0.69 \n",
            "Epoch 23: Train loss: 0.0016,  Train accs: 0.4919, Train average distance: 0.64\n",
            "         Validation loss: 0.0018,  Validation accs:0.4514, Validation average distance: 0.69 \n",
            "Epoch 24: Train loss: 0.0016,  Train accs: 0.4926, Train average distance: 0.64\n",
            "         Validation loss: 0.0018,  Validation accs:0.4517, Validation average distance: 0.69 \n",
            "Epoch 25: Train loss: 0.0016,  Train accs: 0.4928, Train average distance: 0.64\n",
            "         Validation loss: 0.0018,  Validation accs:0.4526, Validation average distance: 0.69 \n",
            "Epoch 26: Train loss: 0.0015,  Train accs: 0.4928, Train average distance: 0.64\n",
            "         Validation loss: 0.0018,  Validation accs:0.4516, Validation average distance: 0.69 \n",
            "Epoch 27: Train loss: 0.0015,  Train accs: 0.4934, Train average distance: 0.64\n",
            "         Validation loss: 0.0018,  Validation accs:0.4511, Validation average distance: 0.69 \n",
            "Epoch 28: Train loss: 0.0015,  Train accs: 0.4933, Train average distance: 0.64\n",
            "         Validation loss: 0.0018,  Validation accs:0.4529, Validation average distance: 0.69 \n",
            "Epoch 29: Train loss: 0.0015,  Train accs: 0.4929, Train average distance: 0.64\n",
            "         Validation loss: 0.0018,  Validation accs:0.4521, Validation average distance: 0.69 \n",
            "Epoch 30: Train loss: 0.0015,  Train accs: 0.4935, Train average distance: 0.64\n",
            "         Validation loss: 0.0018,  Validation accs:0.4536, Validation average distance: 0.69 \n"
          ],
          "name": "stdout"
        }
      ]
    },
    {
      "metadata": {
        "id": "TjGSAuyYkWqa",
        "colab_type": "code",
        "outputId": "1052aa62-2cb4-4a44-fc95-b30556f91f34",
        "colab": {
          "base_uri": "https://localhost:8080/",
          "height": 472
        }
      },
      "cell_type": "code",
      "source": [
        "# Visualization\n",
        "\n",
        "import matplotlib.pyplot as plt\n",
        "import matplotlib as mpl\n",
        "\n",
        "mpl.style.use('default')\n",
        "\n",
        "\n",
        "def getPerc(array):\n",
        "  return [item*100.0 for item in array]\n",
        "\n",
        "simple = []\n",
        "\n",
        "epochs = range(len(train_res))\n",
        "\n",
        "plt.plot(epochs, getPerc(train_res), 'green', label='Training accuracy')\n",
        "plt.plot(epochs, getPerc(val_res), 'blue', label='Validation accuracy')\n",
        "\n",
        "\n",
        "plt.plot(epochs, getPerc(train_err), 'orange', label='Training error')\n",
        "plt.plot(epochs, getPerc(val_err), 'red', label='Validation error')\n",
        "\n",
        "\n",
        "plt.legend(loc='upper left')\n",
        "plt.title(\"MovieLens neural network\")\n",
        "plt.xlabel('Epochs')\n",
        "plt.ylim(0,100)\n",
        "\n",
        "#plt.yaxis.set_major_formatter(FuncFormatter(lambda x, p: '{}%'.format(x)))\n",
        "\n",
        "plt.gca().set_yticklabels(['{:.0f}%'.format(x) for x in plt.gca().get_yticks()])\n",
        "plt.show()\n",
        "#plt.savefig('destination_path.eps', format='eps', dpi=1000)"
      ],
      "execution_count": 0,
      "outputs": [
        {
          "output_type": "display_data",
          "data": {
            "image/png": "[encoded data removed]",
            "text/plain": [
              "<matplotlib.figure.Figure at 0x7fb76d839278>"
            ]
          },
          "metadata": {
            "tags": []
          }
        }
      ]
    }
  ]
}